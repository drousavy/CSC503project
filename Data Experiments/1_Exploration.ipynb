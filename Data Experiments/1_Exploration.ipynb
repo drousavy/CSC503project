{
 "cells": [
  {
   "cell_type": "markdown",
   "metadata": {},
   "source": [
    "Notebook to explore the datasets and do some statistics"
   ]
  },
  {
   "cell_type": "code",
   "execution_count": 1,
   "metadata": {},
   "outputs": [],
   "source": [
    "import pandas as pd\n",
    "import numpy as np\n",
    "import matplotlib.pyplot as plt\n",
    "from os import listdir"
   ]
  },
  {
   "cell_type": "markdown",
   "metadata": {},
   "source": [
    "# First DataSet on DJIA"
   ]
  },
  {
   "cell_type": "code",
   "execution_count": 2,
   "metadata": {
    "scrolled": true
   },
   "outputs": [
    {
     "data": {
      "text/plain": [
       "['Datasets',\n",
       " '.git',\n",
       " 'q3v4DR.ipynb',\n",
       " 'Data Experiments',\n",
       " '.ipynb_checkpoints',\n",
       " 'README.md',\n",
       " 'LSTM']"
      ]
     },
     "execution_count": 2,
     "metadata": {},
     "output_type": "execute_result"
    }
   ],
   "source": [
    "listdir(\"../\")"
   ]
  },
  {
   "cell_type": "code",
   "execution_count": 3,
   "metadata": {},
   "outputs": [
    {
     "data": {
      "text/plain": [
       "['apple-microsoft', 'yahoo-finance', 'djia']"
      ]
     },
     "execution_count": 3,
     "metadata": {},
     "output_type": "execute_result"
    }
   ],
   "source": [
    "listdir(\"../Datasets\")"
   ]
  },
  {
   "cell_type": "markdown",
   "metadata": {},
   "source": [
    "## DJIA table"
   ]
  },
  {
   "cell_type": "code",
   "execution_count": 4,
   "metadata": {},
   "outputs": [
    {
     "data": {
      "text/html": [
       "<div>\n",
       "<style scoped>\n",
       "    .dataframe tbody tr th:only-of-type {\n",
       "        vertical-align: middle;\n",
       "    }\n",
       "\n",
       "    .dataframe tbody tr th {\n",
       "        vertical-align: top;\n",
       "    }\n",
       "\n",
       "    .dataframe thead th {\n",
       "        text-align: right;\n",
       "    }\n",
       "</style>\n",
       "<table border=\"1\" class=\"dataframe\">\n",
       "  <thead>\n",
       "    <tr style=\"text-align: right;\">\n",
       "      <th></th>\n",
       "      <th>Open</th>\n",
       "      <th>High</th>\n",
       "      <th>Low</th>\n",
       "      <th>Close</th>\n",
       "      <th>Volume</th>\n",
       "      <th>Adj Close</th>\n",
       "    </tr>\n",
       "    <tr>\n",
       "      <th>Date</th>\n",
       "      <th></th>\n",
       "      <th></th>\n",
       "      <th></th>\n",
       "      <th></th>\n",
       "      <th></th>\n",
       "      <th></th>\n",
       "    </tr>\n",
       "  </thead>\n",
       "  <tbody>\n",
       "    <tr>\n",
       "      <th>2008-08-08</th>\n",
       "      <td>11432.089844</td>\n",
       "      <td>11759.959961</td>\n",
       "      <td>11388.040039</td>\n",
       "      <td>11734.320312</td>\n",
       "      <td>212830000</td>\n",
       "      <td>11734.320312</td>\n",
       "    </tr>\n",
       "    <tr>\n",
       "      <th>2008-08-11</th>\n",
       "      <td>11729.669922</td>\n",
       "      <td>11867.110352</td>\n",
       "      <td>11675.530273</td>\n",
       "      <td>11782.349609</td>\n",
       "      <td>183190000</td>\n",
       "      <td>11782.349609</td>\n",
       "    </tr>\n",
       "    <tr>\n",
       "      <th>2008-08-12</th>\n",
       "      <td>11781.700195</td>\n",
       "      <td>11782.349609</td>\n",
       "      <td>11601.519531</td>\n",
       "      <td>11642.469727</td>\n",
       "      <td>173590000</td>\n",
       "      <td>11642.469727</td>\n",
       "    </tr>\n",
       "    <tr>\n",
       "      <th>2016-06-30</th>\n",
       "      <td>17712.759766</td>\n",
       "      <td>17930.609375</td>\n",
       "      <td>17711.800781</td>\n",
       "      <td>17929.990234</td>\n",
       "      <td>133030000</td>\n",
       "      <td>17929.990234</td>\n",
       "    </tr>\n",
       "    <tr>\n",
       "      <th>2016-07-01</th>\n",
       "      <td>17924.240234</td>\n",
       "      <td>18002.380859</td>\n",
       "      <td>17916.910156</td>\n",
       "      <td>17949.369141</td>\n",
       "      <td>82160000</td>\n",
       "      <td>17949.369141</td>\n",
       "    </tr>\n",
       "  </tbody>\n",
       "</table>\n",
       "</div>"
      ],
      "text/plain": [
       "                    Open          High           Low         Close     Volume  \\\n",
       "Date                                                                            \n",
       "2008-08-08  11432.089844  11759.959961  11388.040039  11734.320312  212830000   \n",
       "2008-08-11  11729.669922  11867.110352  11675.530273  11782.349609  183190000   \n",
       "2008-08-12  11781.700195  11782.349609  11601.519531  11642.469727  173590000   \n",
       "2016-06-30  17712.759766  17930.609375  17711.800781  17929.990234  133030000   \n",
       "2016-07-01  17924.240234  18002.380859  17916.910156  17949.369141   82160000   \n",
       "\n",
       "               Adj Close  \n",
       "Date                      \n",
       "2008-08-08  11734.320312  \n",
       "2008-08-11  11782.349609  \n",
       "2008-08-12  11642.469727  \n",
       "2016-06-30  17929.990234  \n",
       "2016-07-01  17949.369141  "
      ]
     },
     "execution_count": 4,
     "metadata": {},
     "output_type": "execute_result"
    }
   ],
   "source": [
    "djia = pd.read_csv(\"../Datasets/djia/upload_DJIA_table.csv\",parse_dates=[0],index_col=0).sort_index()\n",
    "pd.concat((djia.head(3),djia.tail(2)))"
   ]
  },
  {
   "cell_type": "code",
   "execution_count": 5,
   "metadata": {},
   "outputs": [
    {
     "data": {
      "text/plain": [
       "Open         0\n",
       "High         0\n",
       "Low          0\n",
       "Close        0\n",
       "Volume       0\n",
       "Adj Close    0\n",
       "dtype: int64"
      ]
     },
     "execution_count": 5,
     "metadata": {},
     "output_type": "execute_result"
    }
   ],
   "source": [
    "djia.isna().sum()"
   ]
  },
  {
   "cell_type": "code",
   "execution_count": 6,
   "metadata": {},
   "outputs": [
    {
     "name": "stdout",
     "output_type": "stream",
     "text": [
      "Missing days:  896\n",
      "Missing ratio: 31.1\n",
      "<class 'pandas.core.frame.DataFrame'>\n",
      "DatetimeIndex: 2885 entries, 2008-08-08 to 2016-07-01\n",
      "Freq: D\n",
      "Data columns (total 6 columns):\n",
      " #   Column     Non-Null Count  Dtype  \n",
      "---  ------     --------------  -----  \n",
      " 0   Open       1989 non-null   float64\n",
      " 1   High       1989 non-null   float64\n",
      " 2   Low        1989 non-null   float64\n",
      " 3   Close      1989 non-null   float64\n",
      " 4   Volume     1989 non-null   float64\n",
      " 5   Adj Close  1989 non-null   float64\n",
      "dtypes: float64(6)\n",
      "memory usage: 157.8 KB\n"
     ]
    }
   ],
   "source": [
    "djia_full = djia.resample(\"d\").asfreq()\n",
    "print(\"Missing days: \",djia_full.Close.isna().sum())\n",
    "print(\"Missing ratio: {:.1f}\".format(100* djia_full.Close.isna().sum()/djia_full.shape[0]))\n",
    "djia_full.info()"
   ]
  },
  {
   "cell_type": "markdown",
   "metadata": {},
   "source": [
    "There are some missing dates here... $896$ days among the $2885$ days of data --> $31\\%$ missing"
   ]
  },
  {
   "cell_type": "markdown",
   "metadata": {},
   "source": [
    "## RedditNews"
   ]
  },
  {
   "cell_type": "code",
   "execution_count": 7,
   "metadata": {},
   "outputs": [
    {
     "name": "stdout",
     "output_type": "stream",
     "text": [
      "<class 'pandas.core.frame.DataFrame'>\n",
      "DatetimeIndex: 73608 entries, 2008-06-08 to 2016-07-01\n",
      "Data columns (total 1 columns):\n",
      " #   Column  Non-Null Count  Dtype \n",
      "---  ------  --------------  ----- \n",
      " 0   News    73608 non-null  object\n",
      "dtypes: object(1)\n",
      "memory usage: 1.1+ MB\n"
     ]
    }
   ],
   "source": [
    "news = pd.read_csv(\"../Datasets/djia/RedditNews.csv\",parse_dates=[0],index_col=0).sort_index()\n",
    "news.info()"
   ]
  },
  {
   "cell_type": "code",
   "execution_count": 8,
   "metadata": {},
   "outputs": [
    {
     "data": {
      "text/html": [
       "<div>\n",
       "<style scoped>\n",
       "    .dataframe tbody tr th:only-of-type {\n",
       "        vertical-align: middle;\n",
       "    }\n",
       "\n",
       "    .dataframe tbody tr th {\n",
       "        vertical-align: top;\n",
       "    }\n",
       "\n",
       "    .dataframe thead th {\n",
       "        text-align: right;\n",
       "    }\n",
       "</style>\n",
       "<table border=\"1\" class=\"dataframe\">\n",
       "  <thead>\n",
       "    <tr style=\"text-align: right;\">\n",
       "      <th></th>\n",
       "      <th>News</th>\n",
       "    </tr>\n",
       "    <tr>\n",
       "      <th>Date</th>\n",
       "      <th></th>\n",
       "    </tr>\n",
       "  </thead>\n",
       "  <tbody>\n",
       "    <tr>\n",
       "      <th>2008-06-08</th>\n",
       "      <td>b'Marriage, they said, was reduced to the stat...</td>\n",
       "    </tr>\n",
       "    <tr>\n",
       "      <th>2008-06-08</th>\n",
       "      <td>b'Nim Chimpsky: The tragedy of the chimp who t...</td>\n",
       "    </tr>\n",
       "    <tr>\n",
       "      <th>2008-06-08</th>\n",
       "      <td>b\"Canada: Beware slippery slope' to censorship...</td>\n",
       "    </tr>\n",
       "    <tr>\n",
       "      <th>2016-07-01</th>\n",
       "      <td>Taiwanese warship accidentally fires missile t...</td>\n",
       "    </tr>\n",
       "    <tr>\n",
       "      <th>2016-07-01</th>\n",
       "      <td>A 117-year-old woman in Mexico City finally re...</td>\n",
       "    </tr>\n",
       "  </tbody>\n",
       "</table>\n",
       "</div>"
      ],
      "text/plain": [
       "                                                         News\n",
       "Date                                                         \n",
       "2008-06-08  b'Marriage, they said, was reduced to the stat...\n",
       "2008-06-08  b'Nim Chimpsky: The tragedy of the chimp who t...\n",
       "2008-06-08  b\"Canada: Beware slippery slope' to censorship...\n",
       "2016-07-01  Taiwanese warship accidentally fires missile t...\n",
       "2016-07-01  A 117-year-old woman in Mexico City finally re..."
      ]
     },
     "execution_count": 8,
     "metadata": {},
     "output_type": "execute_result"
    }
   ],
   "source": [
    "pd.concat((news.head(3),news.tail(2)))"
   ]
  },
  {
   "cell_type": "code",
   "execution_count": 9,
   "metadata": {},
   "outputs": [],
   "source": [
    "dates,count = np.unique(news.index,return_counts=True)"
   ]
  },
  {
   "cell_type": "code",
   "execution_count": 10,
   "metadata": {},
   "outputs": [
    {
     "name": "stdout",
     "output_type": "stream",
     "text": [
      "Dates with different number of articles:  12\n"
     ]
    },
    {
     "data": {
      "text/html": [
       "<div>\n",
       "<style scoped>\n",
       "    .dataframe tbody tr th:only-of-type {\n",
       "        vertical-align: middle;\n",
       "    }\n",
       "\n",
       "    .dataframe tbody tr th {\n",
       "        vertical-align: top;\n",
       "    }\n",
       "\n",
       "    .dataframe thead th {\n",
       "        text-align: right;\n",
       "    }\n",
       "</style>\n",
       "<table border=\"1\" class=\"dataframe\">\n",
       "  <thead>\n",
       "    <tr style=\"text-align: right;\">\n",
       "      <th></th>\n",
       "      <th>Nb days</th>\n",
       "    </tr>\n",
       "    <tr>\n",
       "      <th>Nb articles</th>\n",
       "      <th></th>\n",
       "    </tr>\n",
       "  </thead>\n",
       "  <tbody>\n",
       "    <tr>\n",
       "      <th>22</th>\n",
       "      <td>1</td>\n",
       "    </tr>\n",
       "    <tr>\n",
       "      <th>23</th>\n",
       "      <td>5</td>\n",
       "    </tr>\n",
       "    <tr>\n",
       "      <th>24</th>\n",
       "      <td>4</td>\n",
       "    </tr>\n",
       "    <tr>\n",
       "      <th>25</th>\n",
       "      <td>2931</td>\n",
       "    </tr>\n",
       "    <tr>\n",
       "      <th>50</th>\n",
       "      <td>2</td>\n",
       "    </tr>\n",
       "  </tbody>\n",
       "</table>\n",
       "</div>"
      ],
      "text/plain": [
       "             Nb days\n",
       "Nb articles         \n",
       "22                 1\n",
       "23                 5\n",
       "24                 4\n",
       "25              2931\n",
       "50                 2"
      ]
     },
     "execution_count": 10,
     "metadata": {},
     "output_type": "execute_result"
    }
   ],
   "source": [
    "print(\"Dates with different number of articles: \",(count != np.full(count.shape[0],count[0])).sum())\n",
    "n,c = np.unique(count,return_counts=True)\n",
    "pd.DataFrame((n,c),index=[\"Nb articles\",\"Nb days\"]).T.set_index(\"Nb articles\")"
   ]
  },
  {
   "cell_type": "code",
   "execution_count": 11,
   "metadata": {},
   "outputs": [
    {
     "name": "stdout",
     "output_type": "stream",
     "text": [
      "\tUnique dates:\n",
      "News shape:  (2943,)\n",
      "DJIA shape:  (1989,)\n",
      "DJIA resampled shape:  (2885,)\n"
     ]
    }
   ],
   "source": [
    "# Same dates proposed as original indexes ?\n",
    "print(\"\\tUnique dates:\\nNews shape: \",np.unique(news.index).shape)\n",
    "print(\"DJIA shape: \",np.unique(djia.index).shape)\n",
    "print(\"DJIA resampled shape: \",np.unique(djia_full.index).shape)"
   ]
  },
  {
   "cell_type": "code",
   "execution_count": 12,
   "metadata": {},
   "outputs": [
    {
     "name": "stdout",
     "output_type": "stream",
     "text": [
      "2008-06-08  ;  2008-06-09  ;  2008-06-10  ;  2008-06-11  ;  2008-06-12  ;  2008-06-13  ;  2008-06-14  ;  2008-06-15  ;  2008-06-16  ;  2008-06-17  ;  2008-06-18  ;  2008-06-19  ;  2008-06-20  ;  2008-06-21  ;  2008-06-22  ;  2008-06-23  ;  2008-06-24  ;  2008-06-25  ;  2008-06-26  ;  2008-06-27  ;  2008-06-28  ;  2008-06-29  ;  2008-06-30  ;  2008-07-01  ;  2008-07-02  ;  2008-07-03  ;  2008-07-04  ;  2008-07-05  ;  2008-07-06  ;  2008-07-07  ;  2008-07-08  ;  2008-07-09  ;  2008-07-10  ;  2008-07-11  ;  2008-07-12  ;  2008-07-13  ;  2008-07-14  ;  2008-07-15  ;  2008-07-16  ;  2008-07-17  ;  2008-07-18  ;  2008-07-19  ;  2008-07-20  ;  2008-07-21  ;  2008-07-22  ;  2008-07-23  ;  2008-07-24  ;  2008-07-25  ;  2008-07-26  ;  2008-07-27  ;  2008-07-28  ;  2008-07-29  ;  2008-07-30  ;  2008-07-31  ;  2008-08-01  ;  2008-08-02  ;  2008-08-03  ;  2008-08-04  ;  2008-08-05  ;  2008-08-06  ;  2008-08-07  ;  Total of 61 missing found. Expected 58\n"
     ]
    }
   ],
   "source": [
    "nb = 0\n",
    "for d in np.unique(news.index):\n",
    "    if d not in djia_full.index:\n",
    "        print(str(d).split('T')[0],end=\"  ;  \")\n",
    "        nb+=1\n",
    "\n",
    "exp = np.unique(news.index).shape[0]-np.unique(djia_full.index).shape[0]\n",
    "print(f\"Total of {nb} missing found. Expected {exp}\")"
   ]
  },
  {
   "cell_type": "code",
   "execution_count": 13,
   "metadata": {},
   "outputs": [
    {
     "name": "stdout",
     "output_type": "stream",
     "text": [
      "2009-03-29  ;  2010-03-28  ;  2016-03-27  ;  Total of 3 missing found. Expected 3\n"
     ]
    }
   ],
   "source": [
    "nb = 0\n",
    "for d in np.unique(djia_full.index):\n",
    "    if d not in np.unique(news.index):\n",
    "        print(str(d).split('T')[0],end=\"  ;  \")\n",
    "        nb+=1\n",
    "\n",
    "print(f\"Total of {nb} missing found. Expected 3\")"
   ]
  },
  {
   "cell_type": "markdown",
   "metadata": {},
   "source": [
    "## Combined"
   ]
  },
  {
   "cell_type": "code",
   "execution_count": 14,
   "metadata": {},
   "outputs": [
    {
     "name": "stdout",
     "output_type": "stream",
     "text": [
      "<class 'pandas.core.frame.DataFrame'>\n",
      "DatetimeIndex: 1989 entries, 2008-08-08 to 2016-07-01\n",
      "Data columns (total 26 columns):\n",
      " #   Column  Non-Null Count  Dtype \n",
      "---  ------  --------------  ----- \n",
      " 0   Label   1989 non-null   int64 \n",
      " 1   Top1    1989 non-null   object\n",
      " 2   Top2    1989 non-null   object\n",
      " 3   Top3    1989 non-null   object\n",
      " 4   Top4    1989 non-null   object\n",
      " 5   Top5    1989 non-null   object\n",
      " 6   Top6    1989 non-null   object\n",
      " 7   Top7    1989 non-null   object\n",
      " 8   Top8    1989 non-null   object\n",
      " 9   Top9    1989 non-null   object\n",
      " 10  Top10   1989 non-null   object\n",
      " 11  Top11   1989 non-null   object\n",
      " 12  Top12   1989 non-null   object\n",
      " 13  Top13   1989 non-null   object\n",
      " 14  Top14   1989 non-null   object\n",
      " 15  Top15   1989 non-null   object\n",
      " 16  Top16   1989 non-null   object\n",
      " 17  Top17   1989 non-null   object\n",
      " 18  Top18   1989 non-null   object\n",
      " 19  Top19   1989 non-null   object\n",
      " 20  Top20   1989 non-null   object\n",
      " 21  Top21   1989 non-null   object\n",
      " 22  Top22   1989 non-null   object\n",
      " 23  Top23   1988 non-null   object\n",
      " 24  Top24   1986 non-null   object\n",
      " 25  Top25   1986 non-null   object\n",
      "dtypes: int64(1), object(25)\n",
      "memory usage: 419.6+ KB\n"
     ]
    }
   ],
   "source": [
    "comb = pd.read_csv(\"../Datasets/djia/Combined_News_DJIA.csv\",parse_dates=[0],index_col=0)\n",
    "comb.info()"
   ]
  },
  {
   "cell_type": "code",
   "execution_count": 16,
   "metadata": {},
   "outputs": [
    {
     "data": {
      "text/html": [
       "<div>\n",
       "<style scoped>\n",
       "    .dataframe tbody tr th:only-of-type {\n",
       "        vertical-align: middle;\n",
       "    }\n",
       "\n",
       "    .dataframe tbody tr th {\n",
       "        vertical-align: top;\n",
       "    }\n",
       "\n",
       "    .dataframe thead th {\n",
       "        text-align: right;\n",
       "    }\n",
       "</style>\n",
       "<table border=\"1\" class=\"dataframe\">\n",
       "  <thead>\n",
       "    <tr style=\"text-align: right;\">\n",
       "      <th></th>\n",
       "      <th>Label</th>\n",
       "      <th>Top1</th>\n",
       "      <th>Top2</th>\n",
       "      <th>Top3</th>\n",
       "      <th>Top4</th>\n",
       "      <th>Top5</th>\n",
       "      <th>Top6</th>\n",
       "      <th>Top7</th>\n",
       "      <th>Top8</th>\n",
       "      <th>Top9</th>\n",
       "      <th>...</th>\n",
       "      <th>Top16</th>\n",
       "      <th>Top17</th>\n",
       "      <th>Top18</th>\n",
       "      <th>Top19</th>\n",
       "      <th>Top20</th>\n",
       "      <th>Top21</th>\n",
       "      <th>Top22</th>\n",
       "      <th>Top23</th>\n",
       "      <th>Top24</th>\n",
       "      <th>Top25</th>\n",
       "    </tr>\n",
       "    <tr>\n",
       "      <th>Date</th>\n",
       "      <th></th>\n",
       "      <th></th>\n",
       "      <th></th>\n",
       "      <th></th>\n",
       "      <th></th>\n",
       "      <th></th>\n",
       "      <th></th>\n",
       "      <th></th>\n",
       "      <th></th>\n",
       "      <th></th>\n",
       "      <th></th>\n",
       "      <th></th>\n",
       "      <th></th>\n",
       "      <th></th>\n",
       "      <th></th>\n",
       "      <th></th>\n",
       "      <th></th>\n",
       "      <th></th>\n",
       "      <th></th>\n",
       "      <th></th>\n",
       "      <th></th>\n",
       "    </tr>\n",
       "  </thead>\n",
       "  <tbody>\n",
       "    <tr>\n",
       "      <th>2008-08-08</th>\n",
       "      <td>0</td>\n",
       "      <td>b\"Georgia 'downs two Russian warplanes' as cou...</td>\n",
       "      <td>b'BREAKING: Musharraf to be impeached.'</td>\n",
       "      <td>b'Russia Today: Columns of troops roll into So...</td>\n",
       "      <td>b'Russian tanks are moving towards the capital...</td>\n",
       "      <td>b\"Afghan children raped with 'impunity,' U.N. ...</td>\n",
       "      <td>b'150 Russian tanks have entered South Ossetia...</td>\n",
       "      <td>b\"Breaking: Georgia invades South Ossetia, Rus...</td>\n",
       "      <td>b\"The 'enemy combatent' trials are nothing but...</td>\n",
       "      <td>b'Georgian troops retreat from S. Osettain cap...</td>\n",
       "      <td>...</td>\n",
       "      <td>b'Georgia Invades South Ossetia - if Russia ge...</td>\n",
       "      <td>b'Al-Qaeda Faces Islamist Backlash'</td>\n",
       "      <td>b'Condoleezza Rice: \"The US would not act to p...</td>\n",
       "      <td>b'This is a busy day:  The European Union has ...</td>\n",
       "      <td>b\"Georgia will withdraw 1,000 soldiers from Ir...</td>\n",
       "      <td>b'Why the Pentagon Thinks Attacking Iran is a ...</td>\n",
       "      <td>b'Caucasus in crisis: Georgia invades South Os...</td>\n",
       "      <td>b'Indian shoe manufactory  - And again in a se...</td>\n",
       "      <td>b'Visitors Suffering from Mental Illnesses Ban...</td>\n",
       "      <td>b\"No Help for Mexico's Kidnapping Surge\"</td>\n",
       "    </tr>\n",
       "    <tr>\n",
       "      <th>2016-07-01</th>\n",
       "      <td>1</td>\n",
       "      <td>A 117-year-old woman in Mexico City finally re...</td>\n",
       "      <td>IMF chief backs Athens as permanent Olympic host</td>\n",
       "      <td>The president of France says if Brexit won, so...</td>\n",
       "      <td>British Man Who Must Give Police 24 Hours' Not...</td>\n",
       "      <td>100+ Nobel laureates urge Greenpeace to stop o...</td>\n",
       "      <td>Brazil: Huge spike in number of police killing...</td>\n",
       "      <td>Austria's highest court annuls presidential el...</td>\n",
       "      <td>Facebook wins privacy case, can track any Belg...</td>\n",
       "      <td>Switzerland denies Muslim girls citizenship af...</td>\n",
       "      <td>...</td>\n",
       "      <td>The United States has placed Myanmar, Uzbekist...</td>\n",
       "      <td>S&amp;amp;P revises European Union credit rating t...</td>\n",
       "      <td>India gets $1 billion loan from World Bank for...</td>\n",
       "      <td>U.S. sailors detained by Iran spoke too much u...</td>\n",
       "      <td>Mass fish kill in Vietnam solved as Taiwan ste...</td>\n",
       "      <td>Philippines president Rodrigo Duterte urges pe...</td>\n",
       "      <td>Spain arrests three Pakistanis accused of prom...</td>\n",
       "      <td>Venezuela, where anger over food shortages is ...</td>\n",
       "      <td>A Hindu temple worker has been killed by three...</td>\n",
       "      <td>Ozone layer hole seems to be healing - US &amp;amp...</td>\n",
       "    </tr>\n",
       "  </tbody>\n",
       "</table>\n",
       "<p>2 rows × 26 columns</p>\n",
       "</div>"
      ],
      "text/plain": [
       "            Label                                               Top1  \\\n",
       "Date                                                                   \n",
       "2008-08-08      0  b\"Georgia 'downs two Russian warplanes' as cou...   \n",
       "2016-07-01      1  A 117-year-old woman in Mexico City finally re...   \n",
       "\n",
       "                                                        Top2  \\\n",
       "Date                                                           \n",
       "2008-08-08           b'BREAKING: Musharraf to be impeached.'   \n",
       "2016-07-01  IMF chief backs Athens as permanent Olympic host   \n",
       "\n",
       "                                                         Top3  \\\n",
       "Date                                                            \n",
       "2008-08-08  b'Russia Today: Columns of troops roll into So...   \n",
       "2016-07-01  The president of France says if Brexit won, so...   \n",
       "\n",
       "                                                         Top4  \\\n",
       "Date                                                            \n",
       "2008-08-08  b'Russian tanks are moving towards the capital...   \n",
       "2016-07-01  British Man Who Must Give Police 24 Hours' Not...   \n",
       "\n",
       "                                                         Top5  \\\n",
       "Date                                                            \n",
       "2008-08-08  b\"Afghan children raped with 'impunity,' U.N. ...   \n",
       "2016-07-01  100+ Nobel laureates urge Greenpeace to stop o...   \n",
       "\n",
       "                                                         Top6  \\\n",
       "Date                                                            \n",
       "2008-08-08  b'150 Russian tanks have entered South Ossetia...   \n",
       "2016-07-01  Brazil: Huge spike in number of police killing...   \n",
       "\n",
       "                                                         Top7  \\\n",
       "Date                                                            \n",
       "2008-08-08  b\"Breaking: Georgia invades South Ossetia, Rus...   \n",
       "2016-07-01  Austria's highest court annuls presidential el...   \n",
       "\n",
       "                                                         Top8  \\\n",
       "Date                                                            \n",
       "2008-08-08  b\"The 'enemy combatent' trials are nothing but...   \n",
       "2016-07-01  Facebook wins privacy case, can track any Belg...   \n",
       "\n",
       "                                                         Top9  ...  \\\n",
       "Date                                                           ...   \n",
       "2008-08-08  b'Georgian troops retreat from S. Osettain cap...  ...   \n",
       "2016-07-01  Switzerland denies Muslim girls citizenship af...  ...   \n",
       "\n",
       "                                                        Top16  \\\n",
       "Date                                                            \n",
       "2008-08-08  b'Georgia Invades South Ossetia - if Russia ge...   \n",
       "2016-07-01  The United States has placed Myanmar, Uzbekist...   \n",
       "\n",
       "                                                        Top17  \\\n",
       "Date                                                            \n",
       "2008-08-08                b'Al-Qaeda Faces Islamist Backlash'   \n",
       "2016-07-01  S&amp;P revises European Union credit rating t...   \n",
       "\n",
       "                                                        Top18  \\\n",
       "Date                                                            \n",
       "2008-08-08  b'Condoleezza Rice: \"The US would not act to p...   \n",
       "2016-07-01  India gets $1 billion loan from World Bank for...   \n",
       "\n",
       "                                                        Top19  \\\n",
       "Date                                                            \n",
       "2008-08-08  b'This is a busy day:  The European Union has ...   \n",
       "2016-07-01  U.S. sailors detained by Iran spoke too much u...   \n",
       "\n",
       "                                                        Top20  \\\n",
       "Date                                                            \n",
       "2008-08-08  b\"Georgia will withdraw 1,000 soldiers from Ir...   \n",
       "2016-07-01  Mass fish kill in Vietnam solved as Taiwan ste...   \n",
       "\n",
       "                                                        Top21  \\\n",
       "Date                                                            \n",
       "2008-08-08  b'Why the Pentagon Thinks Attacking Iran is a ...   \n",
       "2016-07-01  Philippines president Rodrigo Duterte urges pe...   \n",
       "\n",
       "                                                        Top22  \\\n",
       "Date                                                            \n",
       "2008-08-08  b'Caucasus in crisis: Georgia invades South Os...   \n",
       "2016-07-01  Spain arrests three Pakistanis accused of prom...   \n",
       "\n",
       "                                                        Top23  \\\n",
       "Date                                                            \n",
       "2008-08-08  b'Indian shoe manufactory  - And again in a se...   \n",
       "2016-07-01  Venezuela, where anger over food shortages is ...   \n",
       "\n",
       "                                                        Top24  \\\n",
       "Date                                                            \n",
       "2008-08-08  b'Visitors Suffering from Mental Illnesses Ban...   \n",
       "2016-07-01  A Hindu temple worker has been killed by three...   \n",
       "\n",
       "                                                        Top25  \n",
       "Date                                                           \n",
       "2008-08-08           b\"No Help for Mexico's Kidnapping Surge\"  \n",
       "2016-07-01  Ozone layer hole seems to be healing - US &amp...  \n",
       "\n",
       "[2 rows x 26 columns]"
      ]
     },
     "execution_count": 16,
     "metadata": {},
     "output_type": "execute_result"
    }
   ],
   "source": [
    "pd.concat((comb.head(1),comb.tail(1)))"
   ]
  },
  {
   "cell_type": "code",
   "execution_count": 17,
   "metadata": {},
   "outputs": [
    {
     "data": {
      "image/png": "[encoded data removed]",
      "text/plain": [
       "<Figure size 432x288 with 1 Axes>"
      ]
     },
     "metadata": {
      "needs_background": "light"
     },
     "output_type": "display_data"
    }
   ],
   "source": [
    "length = []\n",
    "for article in news.News:\n",
    "    try:\n",
    "        length.append(len(article))\n",
    "    except:\n",
    "        pass\n",
    "\n",
    "\n",
    "plt.hist(length)\n",
    "plt.title(\"Length of proposed articles: DJIA - News\",fontsize=13)\n",
    "plt.xlabel(\"Number of characters\",fontsize=12)\n",
    "plt.ylabel(\"Number of articles\",fontsize=13)\n",
    "plt.show()"
   ]
  },
  {
   "cell_type": "code",
   "execution_count": 18,
   "metadata": {},
   "outputs": [
    {
     "data": {
      "text/plain": [
       "(\"b'Marriage, they said, was reduced to the status of a commercial transaction in which women could be discarded by husbands claiming to have discovered hidden defects in them.'\",\n",
       " 175)"
      ]
     },
     "execution_count": 18,
     "metadata": {},
     "output_type": "execute_result"
    }
   ],
   "source": [
    "news.News[0],len(news.News[0])"
   ]
  },
  {
   "cell_type": "code",
   "execution_count": 19,
   "metadata": {},
   "outputs": [
    {
     "data": {
      "text/plain": [
       "73608"
      ]
     },
     "execution_count": 19,
     "metadata": {},
     "output_type": "execute_result"
    }
   ],
   "source": [
    "len(news)"
   ]
  },
  {
   "cell_type": "markdown",
   "metadata": {},
   "source": [
    "Points to discuss:\n",
    "- the exercise can stay the same: look at up or down. No more.\n",
    "- for a time series analysis, the full time series might be usefull, so row data must be extracted from Yahoo finances.\n",
    "- First idea: compare the two approaches: on the one hand, the text analysis via a sentiment analysis. On the other hand, a time series analysis (ARIMA for sure, maybe NN too)\n",
    "- Second idea: if a little time, can combine the results of sentiment analysis and a time series NN to try to go further...\n",
    "\n",
    "Questions:\n",
    "- what data are we using ? The opening, the closing ?"
   ]
  },
  {
   "cell_type": "markdown",
   "metadata": {},
   "source": [
    "# Second DataSet Apple-Microsoft\n",
    "## Apple\n",
    "### Apple stock"
   ]
  },
  {
   "cell_type": "code",
   "execution_count": 20,
   "metadata": {},
   "outputs": [
    {
     "name": "stdout",
     "output_type": "stream",
     "text": [
      "<class 'pandas.core.frame.DataFrame'>\n",
      "DatetimeIndex: 2517 entries, 2006-12-01 to 2016-11-30\n",
      "Data columns (total 7 columns):\n",
      " #   Column     Non-Null Count  Dtype  \n",
      "---  ------     --------------  -----  \n",
      " 0   Open       2517 non-null   float64\n",
      " 1   High       2517 non-null   float64\n",
      " 2   Low        2517 non-null   float64\n",
      " 3   Close      2517 non-null   float64\n",
      " 4   Adj Close  2517 non-null   float64\n",
      " 5   Volume     2517 non-null   int64  \n",
      " 6   News       2323 non-null   object \n",
      "dtypes: float64(5), int64(1), object(1)\n",
      "memory usage: 157.3+ KB\n"
     ]
    }
   ],
   "source": [
    "apple_stock = pd.read_csv(\"../Datasets/apple-microsoft/AppleNewsStock.csv\",parse_dates=[0],index_col=0)\n",
    "apple_stock.info()"
   ]
  },
  {
   "cell_type": "code",
   "execution_count": 21,
   "metadata": {},
   "outputs": [
    {
     "data": {
      "text/html": [
       "<div>\n",
       "<style scoped>\n",
       "    .dataframe tbody tr th:only-of-type {\n",
       "        vertical-align: middle;\n",
       "    }\n",
       "\n",
       "    .dataframe tbody tr th {\n",
       "        vertical-align: top;\n",
       "    }\n",
       "\n",
       "    .dataframe thead th {\n",
       "        text-align: right;\n",
       "    }\n",
       "</style>\n",
       "<table border=\"1\" class=\"dataframe\">\n",
       "  <thead>\n",
       "    <tr style=\"text-align: right;\">\n",
       "      <th></th>\n",
       "      <th>Open</th>\n",
       "      <th>High</th>\n",
       "      <th>Low</th>\n",
       "      <th>Close</th>\n",
       "      <th>Adj Close</th>\n",
       "      <th>Volume</th>\n",
       "      <th>News</th>\n",
       "    </tr>\n",
       "    <tr>\n",
       "      <th>Date</th>\n",
       "      <th></th>\n",
       "      <th></th>\n",
       "      <th></th>\n",
       "      <th></th>\n",
       "      <th></th>\n",
       "      <th></th>\n",
       "      <th></th>\n",
       "    </tr>\n",
       "  </thead>\n",
       "  <tbody>\n",
       "    <tr>\n",
       "      <th>2006-12-01</th>\n",
       "      <td>13.114285</td>\n",
       "      <td>13.190000</td>\n",
       "      <td>12.871428</td>\n",
       "      <td>91.320000</td>\n",
       "      <td>13.045714</td>\n",
       "      <td>198769900</td>\n",
       "      <td>WHAT'S ON TONIGHT : 8 P.M. (TLC) ASHLEY JUDD A...</td>\n",
       "    </tr>\n",
       "    <tr>\n",
       "      <th>2006-12-04</th>\n",
       "      <td>13.125714</td>\n",
       "      <td>13.150000</td>\n",
       "      <td>12.928572</td>\n",
       "      <td>91.120003</td>\n",
       "      <td>13.017143</td>\n",
       "      <td>177384200</td>\n",
       "      <td>More on Housing Prices : The broadest governme...</td>\n",
       "    </tr>\n",
       "    <tr>\n",
       "      <th>2006-12-05</th>\n",
       "      <td>13.092857</td>\n",
       "      <td>13.190000</td>\n",
       "      <td>12.981428</td>\n",
       "      <td>91.269997</td>\n",
       "      <td>13.038571</td>\n",
       "      <td>165709600</td>\n",
       "      <td>NaN</td>\n",
       "    </tr>\n",
       "    <tr>\n",
       "      <th>2016-11-29</th>\n",
       "      <td>110.779999</td>\n",
       "      <td>112.029999</td>\n",
       "      <td>110.070000</td>\n",
       "      <td>111.459999</td>\n",
       "      <td>111.459999</td>\n",
       "      <td>28528800</td>\n",
       "      <td>NaN</td>\n",
       "    </tr>\n",
       "    <tr>\n",
       "      <th>2016-11-30</th>\n",
       "      <td>111.599998</td>\n",
       "      <td>112.199997</td>\n",
       "      <td>110.269997</td>\n",
       "      <td>110.519997</td>\n",
       "      <td>110.519997</td>\n",
       "      <td>36162300</td>\n",
       "      <td>NaN</td>\n",
       "    </tr>\n",
       "  </tbody>\n",
       "</table>\n",
       "</div>"
      ],
      "text/plain": [
       "                  Open        High         Low       Close   Adj Close  \\\n",
       "Date                                                                     \n",
       "2006-12-01   13.114285   13.190000   12.871428   91.320000   13.045714   \n",
       "2006-12-04   13.125714   13.150000   12.928572   91.120003   13.017143   \n",
       "2006-12-05   13.092857   13.190000   12.981428   91.269997   13.038571   \n",
       "2016-11-29  110.779999  112.029999  110.070000  111.459999  111.459999   \n",
       "2016-11-30  111.599998  112.199997  110.269997  110.519997  110.519997   \n",
       "\n",
       "               Volume                                               News  \n",
       "Date                                                                      \n",
       "2006-12-01  198769900  WHAT'S ON TONIGHT : 8 P.M. (TLC) ASHLEY JUDD A...  \n",
       "2006-12-04  177384200  More on Housing Prices : The broadest governme...  \n",
       "2006-12-05  165709600                                                NaN  \n",
       "2016-11-29   28528800                                                NaN  \n",
       "2016-11-30   36162300                                                NaN  "
      ]
     },
     "execution_count": 21,
     "metadata": {},
     "output_type": "execute_result"
    }
   ],
   "source": [
    "pd.concat((apple_stock.head(3),apple_stock.tail(2)))"
   ]
  },
  {
   "cell_type": "code",
   "execution_count": 22,
   "metadata": {},
   "outputs": [
    {
     "name": "stdout",
     "output_type": "stream",
     "text": [
      "Missing days:  1136\n",
      "Missing ratio: 31.1\n",
      "\n",
      "<class 'pandas.core.frame.DataFrame'>\n",
      "DatetimeIndex: 3653 entries, 2006-12-01 to 2016-11-30\n",
      "Freq: D\n",
      "Data columns (total 7 columns):\n",
      " #   Column     Non-Null Count  Dtype  \n",
      "---  ------     --------------  -----  \n",
      " 0   Open       2517 non-null   float64\n",
      " 1   High       2517 non-null   float64\n",
      " 2   Low        2517 non-null   float64\n",
      " 3   Close      2517 non-null   float64\n",
      " 4   Adj Close  2517 non-null   float64\n",
      " 5   Volume     2517 non-null   float64\n",
      " 6   News       2323 non-null   object \n",
      "dtypes: float64(6), object(1)\n",
      "memory usage: 228.3+ KB\n"
     ]
    }
   ],
   "source": [
    "apple_stock_full = apple_stock.resample(\"d\").asfreq()\n",
    "print(\"Missing days: \",apple_stock_full.Close.isna().sum())\n",
    "print(\"Missing ratio: {:.1f}\\n\".format(100* apple_stock_full.Close.isna().sum()/apple_stock_full.shape[0]))\n",
    "apple_stock_full.info()"
   ]
  },
  {
   "cell_type": "markdown",
   "metadata": {},
   "source": [
    "### Apple Final Data"
   ]
  },
  {
   "cell_type": "code",
   "execution_count": 23,
   "metadata": {},
   "outputs": [
    {
     "name": "stdout",
     "output_type": "stream",
     "text": [
      "<class 'pandas.core.frame.DataFrame'>\n",
      "DatetimeIndex: 2517 entries, 2006-12-01 to 2016-11-30\n",
      "Data columns (total 9 columns):\n",
      " #   Column     Non-Null Count  Dtype  \n",
      "---  ------     --------------  -----  \n",
      " 0   Open       2517 non-null   float64\n",
      " 1   High       2517 non-null   float64\n",
      " 2   Low        2517 non-null   float64\n",
      " 3   Close      2517 non-null   float64\n",
      " 4   Adj Close  2517 non-null   float64\n",
      " 5   compound   2517 non-null   float64\n",
      " 6   neg        2517 non-null   float64\n",
      " 7   neu        2517 non-null   float64\n",
      " 8   pos        2517 non-null   float64\n",
      "dtypes: float64(9)\n",
      "memory usage: 196.6 KB\n"
     ]
    }
   ],
   "source": [
    "apple_final = pd.read_csv(\"../Datasets/apple-microsoft/AppleFinalData.csv\",parse_dates=[0],index_col=0)\n",
    "apple_final.info()"
   ]
  },
  {
   "cell_type": "code",
   "execution_count": 24,
   "metadata": {},
   "outputs": [
    {
     "data": {
      "text/html": [
       "<div>\n",
       "<style scoped>\n",
       "    .dataframe tbody tr th:only-of-type {\n",
       "        vertical-align: middle;\n",
       "    }\n",
       "\n",
       "    .dataframe tbody tr th {\n",
       "        vertical-align: top;\n",
       "    }\n",
       "\n",
       "    .dataframe thead th {\n",
       "        text-align: right;\n",
       "    }\n",
       "</style>\n",
       "<table border=\"1\" class=\"dataframe\">\n",
       "  <thead>\n",
       "    <tr style=\"text-align: right;\">\n",
       "      <th></th>\n",
       "      <th>Open</th>\n",
       "      <th>High</th>\n",
       "      <th>Low</th>\n",
       "      <th>Close</th>\n",
       "      <th>Adj Close</th>\n",
       "      <th>compound</th>\n",
       "      <th>neg</th>\n",
       "      <th>neu</th>\n",
       "      <th>pos</th>\n",
       "    </tr>\n",
       "    <tr>\n",
       "      <th>Date</th>\n",
       "      <th></th>\n",
       "      <th></th>\n",
       "      <th></th>\n",
       "      <th></th>\n",
       "      <th></th>\n",
       "      <th></th>\n",
       "      <th></th>\n",
       "      <th></th>\n",
       "      <th></th>\n",
       "    </tr>\n",
       "  </thead>\n",
       "  <tbody>\n",
       "    <tr>\n",
       "      <th>2006-12-01</th>\n",
       "      <td>13.1143</td>\n",
       "      <td>13.19</td>\n",
       "      <td>12.8714</td>\n",
       "      <td>91.32</td>\n",
       "      <td>13.0457</td>\n",
       "      <td>0.7707</td>\n",
       "      <td>0.032</td>\n",
       "      <td>0.905</td>\n",
       "      <td>0.063</td>\n",
       "    </tr>\n",
       "    <tr>\n",
       "      <th>2006-12-04</th>\n",
       "      <td>13.1257</td>\n",
       "      <td>13.15</td>\n",
       "      <td>12.9286</td>\n",
       "      <td>91.12</td>\n",
       "      <td>13.0171</td>\n",
       "      <td>0.8720</td>\n",
       "      <td>0.011</td>\n",
       "      <td>0.904</td>\n",
       "      <td>0.085</td>\n",
       "    </tr>\n",
       "    <tr>\n",
       "      <th>2006-12-05</th>\n",
       "      <td>13.0929</td>\n",
       "      <td>13.19</td>\n",
       "      <td>12.9814</td>\n",
       "      <td>91.27</td>\n",
       "      <td>13.0386</td>\n",
       "      <td>0.0000</td>\n",
       "      <td>0.000</td>\n",
       "      <td>0.000</td>\n",
       "      <td>0.000</td>\n",
       "    </tr>\n",
       "    <tr>\n",
       "      <th>2016-11-29</th>\n",
       "      <td>110.7800</td>\n",
       "      <td>112.03</td>\n",
       "      <td>110.0700</td>\n",
       "      <td>111.46</td>\n",
       "      <td>111.4600</td>\n",
       "      <td>0.0000</td>\n",
       "      <td>0.000</td>\n",
       "      <td>0.000</td>\n",
       "      <td>0.000</td>\n",
       "    </tr>\n",
       "    <tr>\n",
       "      <th>2016-11-30</th>\n",
       "      <td>111.6000</td>\n",
       "      <td>112.20</td>\n",
       "      <td>110.2700</td>\n",
       "      <td>110.52</td>\n",
       "      <td>110.5200</td>\n",
       "      <td>0.0000</td>\n",
       "      <td>0.000</td>\n",
       "      <td>0.000</td>\n",
       "      <td>0.000</td>\n",
       "    </tr>\n",
       "  </tbody>\n",
       "</table>\n",
       "</div>"
      ],
      "text/plain": [
       "                Open    High       Low   Close  Adj Close  compound    neg  \\\n",
       "Date                                                                         \n",
       "2006-12-01   13.1143   13.19   12.8714   91.32    13.0457    0.7707  0.032   \n",
       "2006-12-04   13.1257   13.15   12.9286   91.12    13.0171    0.8720  0.011   \n",
       "2006-12-05   13.0929   13.19   12.9814   91.27    13.0386    0.0000  0.000   \n",
       "2016-11-29  110.7800  112.03  110.0700  111.46   111.4600    0.0000  0.000   \n",
       "2016-11-30  111.6000  112.20  110.2700  110.52   110.5200    0.0000  0.000   \n",
       "\n",
       "              neu    pos  \n",
       "Date                      \n",
       "2006-12-01  0.905  0.063  \n",
       "2006-12-04  0.904  0.085  \n",
       "2006-12-05  0.000  0.000  \n",
       "2016-11-29  0.000  0.000  \n",
       "2016-11-30  0.000  0.000  "
      ]
     },
     "execution_count": 24,
     "metadata": {},
     "output_type": "execute_result"
    }
   ],
   "source": [
    "pd.concat((apple_final.head(3),apple_final.tail(2)))"
   ]
  },
  {
   "cell_type": "code",
   "execution_count": 25,
   "metadata": {},
   "outputs": [
    {
     "name": "stdout",
     "output_type": "stream",
     "text": [
      "Missing days:  1136\n",
      "Missing ratio: 31.1\n",
      "\n",
      "<class 'pandas.core.frame.DataFrame'>\n",
      "DatetimeIndex: 3653 entries, 2006-12-01 to 2016-11-30\n",
      "Freq: D\n",
      "Data columns (total 9 columns):\n",
      " #   Column     Non-Null Count  Dtype  \n",
      "---  ------     --------------  -----  \n",
      " 0   Open       2517 non-null   float64\n",
      " 1   High       2517 non-null   float64\n",
      " 2   Low        2517 non-null   float64\n",
      " 3   Close      2517 non-null   float64\n",
      " 4   Adj Close  2517 non-null   float64\n",
      " 5   compound   2517 non-null   float64\n",
      " 6   neg        2517 non-null   float64\n",
      " 7   neu        2517 non-null   float64\n",
      " 8   pos        2517 non-null   float64\n",
      "dtypes: float64(9)\n",
      "memory usage: 285.4 KB\n"
     ]
    }
   ],
   "source": [
    "apple_final_full = apple_final.resample(\"d\").asfreq()\n",
    "print(\"Missing days: \",apple_final_full.Close.isna().sum())\n",
    "print(\"Missing ratio: {:.1f}\\n\".format(100* apple_final_full.Close.isna().sum()/apple_final_full.shape[0]))\n",
    "apple_final_full.info()"
   ]
  },
  {
   "cell_type": "code",
   "execution_count": 26,
   "metadata": {},
   "outputs": [
    {
     "data": {
      "image/png": "[encoded data removed]",
      "text/plain": [
       "<Figure size 432x288 with 1 Axes>"
      ]
     },
     "metadata": {
      "needs_background": "light"
     },
     "output_type": "display_data"
    }
   ],
   "source": [
    "length = []\n",
    "for article in apple_stock.News:\n",
    "    try:\n",
    "        length.append(len(article))\n",
    "    except:\n",
    "        pass\n",
    "\n",
    "\n",
    "plt.hist(length)\n",
    "plt.title(\"Length of proposed articles: Apple\",fontsize=13)\n",
    "plt.xlabel(\"Number of characters\",fontsize=12)\n",
    "plt.ylabel(\"Number of articles\",fontsize=13)\n",
    "plt.show()"
   ]
  },
  {
   "cell_type": "markdown",
   "metadata": {},
   "source": [
    "## Microsoft"
   ]
  },
  {
   "cell_type": "code",
   "execution_count": 32,
   "metadata": {},
   "outputs": [
    {
     "name": "stdout",
     "output_type": "stream",
     "text": [
      "<class 'pandas.core.frame.DataFrame'>\n",
      "DatetimeIndex: 2517 entries, 2006-12-01 to 2016-11-30\n",
      "Data columns (total 7 columns):\n",
      " #   Column     Non-Null Count  Dtype  \n",
      "---  ------     --------------  -----  \n",
      " 0   Open       2517 non-null   float64\n",
      " 1   High       2517 non-null   float64\n",
      " 2   Low        2517 non-null   float64\n",
      " 3   Close      2517 non-null   float64\n",
      " 4   Adj Close  2517 non-null   float64\n",
      " 5   Volume     2517 non-null   int64  \n",
      " 6   News       1341 non-null   object \n",
      "dtypes: float64(5), int64(1), object(1)\n",
      "memory usage: 157.3+ KB\n"
     ]
    }
   ],
   "source": [
    "mic_stock = pd.read_csv(\"../Datasets/apple-microsoft/MicrosoftNewsStock.csv\",parse_dates=[1],index_col=1)[mic_stock.columns[1:]]\n",
    "mic_stock.info()"
   ]
  },
  {
   "cell_type": "code",
   "execution_count": 33,
   "metadata": {},
   "outputs": [
    {
     "data": {
      "text/html": [
       "<div>\n",
       "<style scoped>\n",
       "    .dataframe tbody tr th:only-of-type {\n",
       "        vertical-align: middle;\n",
       "    }\n",
       "\n",
       "    .dataframe tbody tr th {\n",
       "        vertical-align: top;\n",
       "    }\n",
       "\n",
       "    .dataframe thead th {\n",
       "        text-align: right;\n",
       "    }\n",
       "</style>\n",
       "<table border=\"1\" class=\"dataframe\">\n",
       "  <thead>\n",
       "    <tr style=\"text-align: right;\">\n",
       "      <th></th>\n",
       "      <th>Open</th>\n",
       "      <th>High</th>\n",
       "      <th>Low</th>\n",
       "      <th>Close</th>\n",
       "      <th>Adj Close</th>\n",
       "      <th>Volume</th>\n",
       "      <th>News</th>\n",
       "    </tr>\n",
       "    <tr>\n",
       "      <th>Date</th>\n",
       "      <th></th>\n",
       "      <th></th>\n",
       "      <th></th>\n",
       "      <th></th>\n",
       "      <th></th>\n",
       "      <th></th>\n",
       "      <th></th>\n",
       "    </tr>\n",
       "  </thead>\n",
       "  <tbody>\n",
       "    <tr>\n",
       "      <th>2006-12-01</th>\n",
       "      <td>29.230000</td>\n",
       "      <td>29.299999</td>\n",
       "      <td>28.900000</td>\n",
       "      <td>29.120001</td>\n",
       "      <td>29.120001</td>\n",
       "      <td>72257000</td>\n",
       "      <td>NaN</td>\n",
       "    </tr>\n",
       "    <tr>\n",
       "      <th>2006-12-04</th>\n",
       "      <td>29.230000</td>\n",
       "      <td>29.520000</td>\n",
       "      <td>29.170000</td>\n",
       "      <td>29.330000</td>\n",
       "      <td>29.330000</td>\n",
       "      <td>55123400</td>\n",
       "      <td>The Retooling of a Search Engine : Ask.com is ...</td>\n",
       "    </tr>\n",
       "    <tr>\n",
       "      <th>2006-12-05</th>\n",
       "      <td>29.360001</td>\n",
       "      <td>29.400000</td>\n",
       "      <td>29.030001</td>\n",
       "      <td>29.129999</td>\n",
       "      <td>29.129999</td>\n",
       "      <td>45606000</td>\n",
       "      <td>NaN</td>\n",
       "    </tr>\n",
       "    <tr>\n",
       "      <th>2016-11-29</th>\n",
       "      <td>60.650002</td>\n",
       "      <td>61.410000</td>\n",
       "      <td>60.520000</td>\n",
       "      <td>61.090000</td>\n",
       "      <td>61.090000</td>\n",
       "      <td>22366700</td>\n",
       "      <td>NaN</td>\n",
       "    </tr>\n",
       "    <tr>\n",
       "      <th>2016-11-30</th>\n",
       "      <td>60.860001</td>\n",
       "      <td>61.180000</td>\n",
       "      <td>60.220001</td>\n",
       "      <td>60.259998</td>\n",
       "      <td>60.259998</td>\n",
       "      <td>34655400</td>\n",
       "      <td>NaN</td>\n",
       "    </tr>\n",
       "  </tbody>\n",
       "</table>\n",
       "</div>"
      ],
      "text/plain": [
       "                 Open       High        Low      Close  Adj Close    Volume  \\\n",
       "Date                                                                          \n",
       "2006-12-01  29.230000  29.299999  28.900000  29.120001  29.120001  72257000   \n",
       "2006-12-04  29.230000  29.520000  29.170000  29.330000  29.330000  55123400   \n",
       "2006-12-05  29.360001  29.400000  29.030001  29.129999  29.129999  45606000   \n",
       "2016-11-29  60.650002  61.410000  60.520000  61.090000  61.090000  22366700   \n",
       "2016-11-30  60.860001  61.180000  60.220001  60.259998  60.259998  34655400   \n",
       "\n",
       "                                                         News  \n",
       "Date                                                           \n",
       "2006-12-01                                                NaN  \n",
       "2006-12-04  The Retooling of a Search Engine : Ask.com is ...  \n",
       "2006-12-05                                                NaN  \n",
       "2016-11-29                                                NaN  \n",
       "2016-11-30                                                NaN  "
      ]
     },
     "execution_count": 33,
     "metadata": {},
     "output_type": "execute_result"
    }
   ],
   "source": [
    "pd.concat((mic_stock.head(3),mic_stock.tail(2)))"
   ]
  },
  {
   "cell_type": "code",
   "execution_count": 41,
   "metadata": {},
   "outputs": [
    {
     "name": "stdout",
     "output_type": "stream",
     "text": [
      "Missing days:  1136\n",
      "Missing ratio: 31.1\n",
      "\n",
      "<class 'pandas.core.frame.DataFrame'>\n",
      "DatetimeIndex: 3653 entries, 2006-12-01 to 2016-11-30\n",
      "Freq: D\n",
      "Data columns (total 7 columns):\n",
      " #   Column     Non-Null Count  Dtype  \n",
      "---  ------     --------------  -----  \n",
      " 0   Open       2517 non-null   float64\n",
      " 1   High       2517 non-null   float64\n",
      " 2   Low        2517 non-null   float64\n",
      " 3   Close      2517 non-null   float64\n",
      " 4   Adj Close  2517 non-null   float64\n",
      " 5   Volume     2517 non-null   float64\n",
      " 6   News       1341 non-null   object \n",
      "dtypes: float64(6), object(1)\n",
      "memory usage: 228.3+ KB\n"
     ]
    }
   ],
   "source": [
    "mic_stock_full = mic_stock.resample(\"d\").asfreq()\n",
    "print(\"Missing days: \",mic_stock_full.Close.isna().sum())\n",
    "print(\"Missing ratio: {:.1f}\\n\".format(100* mic_stock_full.Close.isna().sum()/mic_stock_full.shape[0]))\n",
    "mic_stock_full.info()"
   ]
  },
  {
   "cell_type": "markdown",
   "metadata": {},
   "source": [
    "### Microsoft Final Data"
   ]
  },
  {
   "cell_type": "code",
   "execution_count": 42,
   "metadata": {},
   "outputs": [
    {
     "name": "stdout",
     "output_type": "stream",
     "text": [
      "<class 'pandas.core.frame.DataFrame'>\n",
      "DatetimeIndex: 2517 entries, 2006-12-01 to 2016-11-30\n",
      "Data columns (total 9 columns):\n",
      " #   Column     Non-Null Count  Dtype  \n",
      "---  ------     --------------  -----  \n",
      " 0   Open       2517 non-null   float64\n",
      " 1   High       2517 non-null   float64\n",
      " 2   Low        2517 non-null   float64\n",
      " 3   Close      2517 non-null   float64\n",
      " 4   Adj Close  2517 non-null   float64\n",
      " 5   compound   2517 non-null   float64\n",
      " 6   neg        2517 non-null   float64\n",
      " 7   neu        2517 non-null   float64\n",
      " 8   pos        2517 non-null   float64\n",
      "dtypes: float64(9)\n",
      "memory usage: 196.6 KB\n"
     ]
    }
   ],
   "source": [
    "mic_stock_final = pd.read_csv(\"../Datasets/apple-microsoft/MicrosoftFinalData.csv\",parse_dates=[0],index_col=0)\n",
    "mic_stock_final.info()"
   ]
  },
  {
   "cell_type": "code",
   "execution_count": 43,
   "metadata": {},
   "outputs": [
    {
     "data": {
      "text/html": [
       "<div>\n",
       "<style scoped>\n",
       "    .dataframe tbody tr th:only-of-type {\n",
       "        vertical-align: middle;\n",
       "    }\n",
       "\n",
       "    .dataframe tbody tr th {\n",
       "        vertical-align: top;\n",
       "    }\n",
       "\n",
       "    .dataframe thead th {\n",
       "        text-align: right;\n",
       "    }\n",
       "</style>\n",
       "<table border=\"1\" class=\"dataframe\">\n",
       "  <thead>\n",
       "    <tr style=\"text-align: right;\">\n",
       "      <th></th>\n",
       "      <th>Open</th>\n",
       "      <th>High</th>\n",
       "      <th>Low</th>\n",
       "      <th>Close</th>\n",
       "      <th>Adj Close</th>\n",
       "      <th>compound</th>\n",
       "      <th>neg</th>\n",
       "      <th>neu</th>\n",
       "      <th>pos</th>\n",
       "    </tr>\n",
       "    <tr>\n",
       "      <th>Date</th>\n",
       "      <th></th>\n",
       "      <th></th>\n",
       "      <th></th>\n",
       "      <th></th>\n",
       "      <th></th>\n",
       "      <th></th>\n",
       "      <th></th>\n",
       "      <th></th>\n",
       "      <th></th>\n",
       "    </tr>\n",
       "  </thead>\n",
       "  <tbody>\n",
       "    <tr>\n",
       "      <th>2006-12-01</th>\n",
       "      <td>29.23</td>\n",
       "      <td>29.30</td>\n",
       "      <td>28.90</td>\n",
       "      <td>29.12</td>\n",
       "      <td>29.12</td>\n",
       "      <td>0.0000</td>\n",
       "      <td>0.000</td>\n",
       "      <td>0.000</td>\n",
       "      <td>0.0</td>\n",
       "    </tr>\n",
       "    <tr>\n",
       "      <th>2006-12-04</th>\n",
       "      <td>29.23</td>\n",
       "      <td>29.52</td>\n",
       "      <td>29.17</td>\n",
       "      <td>29.33</td>\n",
       "      <td>29.33</td>\n",
       "      <td>-0.7783</td>\n",
       "      <td>0.137</td>\n",
       "      <td>0.863</td>\n",
       "      <td>0.0</td>\n",
       "    </tr>\n",
       "    <tr>\n",
       "      <th>2006-12-05</th>\n",
       "      <td>29.36</td>\n",
       "      <td>29.40</td>\n",
       "      <td>29.03</td>\n",
       "      <td>29.13</td>\n",
       "      <td>29.13</td>\n",
       "      <td>0.0000</td>\n",
       "      <td>0.000</td>\n",
       "      <td>0.000</td>\n",
       "      <td>0.0</td>\n",
       "    </tr>\n",
       "    <tr>\n",
       "      <th>2016-11-29</th>\n",
       "      <td>60.65</td>\n",
       "      <td>61.41</td>\n",
       "      <td>60.52</td>\n",
       "      <td>61.09</td>\n",
       "      <td>61.09</td>\n",
       "      <td>0.0000</td>\n",
       "      <td>0.000</td>\n",
       "      <td>0.000</td>\n",
       "      <td>0.0</td>\n",
       "    </tr>\n",
       "    <tr>\n",
       "      <th>2016-11-30</th>\n",
       "      <td>60.86</td>\n",
       "      <td>61.18</td>\n",
       "      <td>60.22</td>\n",
       "      <td>60.26</td>\n",
       "      <td>60.26</td>\n",
       "      <td>0.0000</td>\n",
       "      <td>0.000</td>\n",
       "      <td>0.000</td>\n",
       "      <td>0.0</td>\n",
       "    </tr>\n",
       "  </tbody>\n",
       "</table>\n",
       "</div>"
      ],
      "text/plain": [
       "             Open   High    Low  Close  Adj Close  compound    neg    neu  pos\n",
       "Date                                                                          \n",
       "2006-12-01  29.23  29.30  28.90  29.12      29.12    0.0000  0.000  0.000  0.0\n",
       "2006-12-04  29.23  29.52  29.17  29.33      29.33   -0.7783  0.137  0.863  0.0\n",
       "2006-12-05  29.36  29.40  29.03  29.13      29.13    0.0000  0.000  0.000  0.0\n",
       "2016-11-29  60.65  61.41  60.52  61.09      61.09    0.0000  0.000  0.000  0.0\n",
       "2016-11-30  60.86  61.18  60.22  60.26      60.26    0.0000  0.000  0.000  0.0"
      ]
     },
     "execution_count": 43,
     "metadata": {},
     "output_type": "execute_result"
    }
   ],
   "source": [
    "pd.concat((mic_stock_final.head(3),mic_stock_final.tail(2)))"
   ]
  },
  {
   "cell_type": "code",
   "execution_count": 44,
   "metadata": {
    "scrolled": true
   },
   "outputs": [
    {
     "name": "stdout",
     "output_type": "stream",
     "text": [
      "Missing days:  1136\n",
      "Missing ratio: 31.1\n",
      "\n",
      "<class 'pandas.core.frame.DataFrame'>\n",
      "DatetimeIndex: 3653 entries, 2006-12-01 to 2016-11-30\n",
      "Freq: D\n",
      "Data columns (total 7 columns):\n",
      " #   Column     Non-Null Count  Dtype  \n",
      "---  ------     --------------  -----  \n",
      " 0   Open       2517 non-null   float64\n",
      " 1   High       2517 non-null   float64\n",
      " 2   Low        2517 non-null   float64\n",
      " 3   Close      2517 non-null   float64\n",
      " 4   Adj Close  2517 non-null   float64\n",
      " 5   Volume     2517 non-null   float64\n",
      " 6   News       1341 non-null   object \n",
      "dtypes: float64(6), object(1)\n",
      "memory usage: 228.3+ KB\n"
     ]
    }
   ],
   "source": [
    "mic_stock_full = mic_stock_full.resample(\"d\").asfreq()\n",
    "print(\"Missing days: \",mic_stock_full.Close.isna().sum())\n",
    "print(\"Missing ratio: {:.1f}\\n\".format(100* mic_stock_full.Close.isna().sum()/mic_stock_full.shape[0]))\n",
    "mic_stock_full.info()"
   ]
  },
  {
   "cell_type": "code",
   "execution_count": 38,
   "metadata": {},
   "outputs": [
    {
     "data": {
      "image/png": "[encoded data removed]",
      "text/plain": [
       "<Figure size 432x288 with 1 Axes>"
      ]
     },
     "metadata": {
      "needs_background": "light"
     },
     "output_type": "display_data"
    }
   ],
   "source": [
    "length = []\n",
    "for article in mic_stock.News:\n",
    "    try:\n",
    "        length.append(len(article))\n",
    "    except:\n",
    "        pass\n",
    "\n",
    "\n",
    "plt.hist(length)\n",
    "plt.title(\"Length of proposed articles: Microsoft\",fontsize=13)\n",
    "plt.xlabel(\"Number of characters\",fontsize=12)\n",
    "plt.ylabel(\"Number of articles\",fontsize=13)\n",
    "plt.show()"
   ]
  },
  {
   "cell_type": "code",
   "execution_count": null,
   "metadata": {},
   "outputs": [],
   "source": []
  },
  {
   "cell_type": "code",
   "execution_count": null,
   "metadata": {},
   "outputs": [],
   "source": []
  },
  {
   "cell_type": "markdown",
   "metadata": {},
   "source": [
    "## Overall News Article Summary"
   ]
  },
  {
   "cell_type": "markdown",
   "metadata": {},
   "source": [
    "DJIA"
   ]
  },
  {
   "cell_type": "code",
   "execution_count": 81,
   "metadata": {},
   "outputs": [
    {
     "data": {
      "text/plain": [
       "73608"
      ]
     },
     "execution_count": 81,
     "metadata": {},
     "output_type": "execute_result"
    }
   ],
   "source": [
    "len(news.News)"
   ]
  },
  {
   "cell_type": "code",
   "execution_count": 82,
   "metadata": {},
   "outputs": [
    {
     "data": {
      "text/plain": [
       "73608"
      ]
     },
     "execution_count": 82,
     "metadata": {},
     "output_type": "execute_result"
    }
   ],
   "source": [
    "len(news.News.dropna())"
   ]
  },
  {
   "cell_type": "code",
   "execution_count": 78,
   "metadata": {},
   "outputs": [
    {
     "data": {
      "image/png": "[encoded data removed]",
      "text/plain": [
       "<Figure size 432x288 with 1 Axes>"
      ]
     },
     "metadata": {
      "needs_background": "light"
     },
     "output_type": "display_data"
    }
   ],
   "source": [
    "length = []\n",
    "for article in news.News:\n",
    "    try:\n",
    "        length.append(len(article))\n",
    "    except:\n",
    "        pass\n",
    "\n",
    "\n",
    "plt.hist(length)\n",
    "plt.title(\"Length of proposed articles: DJIA - News\",fontsize=13)\n",
    "plt.xlabel(\"Number of characters\",fontsize=12)\n",
    "plt.ylabel(\"Number of articles\",fontsize=13)\n",
    "plt.show()"
   ]
  },
  {
   "cell_type": "markdown",
   "metadata": {},
   "source": [
    "Apple"
   ]
  },
  {
   "cell_type": "code",
   "execution_count": 80,
   "metadata": {},
   "outputs": [
    {
     "data": {
      "text/plain": [
       "2517"
      ]
     },
     "execution_count": 80,
     "metadata": {},
     "output_type": "execute_result"
    }
   ],
   "source": [
    "len(apple_stock.News)"
   ]
  },
  {
   "cell_type": "code",
   "execution_count": 75,
   "metadata": {},
   "outputs": [
    {
     "data": {
      "text/plain": [
       "2323"
      ]
     },
     "execution_count": 75,
     "metadata": {},
     "output_type": "execute_result"
    }
   ],
   "source": [
    "len(apple_stock.News.dropna())"
   ]
  },
  {
   "cell_type": "code",
   "execution_count": 83,
   "metadata": {},
   "outputs": [
    {
     "data": {
      "image/png": "[encoded data removed]",
      "text/plain": [
       "<Figure size 432x288 with 1 Axes>"
      ]
     },
     "metadata": {
      "needs_background": "light"
     },
     "output_type": "display_data"
    }
   ],
   "source": [
    "length = []\n",
    "for article in apple_stock.News:\n",
    "    try:\n",
    "        length.append(len(article))\n",
    "    except:\n",
    "        pass\n",
    "\n",
    "\n",
    "plt.hist(length)\n",
    "plt.title(\"Length of proposed articles: Apple\",fontsize=13)\n",
    "plt.xlabel(\"Number of characters\",fontsize=12)\n",
    "plt.ylabel(\"Number of articles\",fontsize=13)\n",
    "plt.show()"
   ]
  },
  {
   "cell_type": "markdown",
   "metadata": {},
   "source": [
    "Microsoft"
   ]
  },
  {
   "cell_type": "code",
   "execution_count": 74,
   "metadata": {},
   "outputs": [
    {
     "data": {
      "text/plain": [
       "2517"
      ]
     },
     "execution_count": 74,
     "metadata": {},
     "output_type": "execute_result"
    }
   ],
   "source": [
    "len(mic_stock.News)"
   ]
  },
  {
   "cell_type": "code",
   "execution_count": 76,
   "metadata": {},
   "outputs": [
    {
     "data": {
      "text/plain": [
       "1341"
      ]
     },
     "execution_count": 76,
     "metadata": {},
     "output_type": "execute_result"
    }
   ],
   "source": [
    "len(mic_stock.News.dropna())"
   ]
  },
  {
   "cell_type": "code",
   "execution_count": 84,
   "metadata": {},
   "outputs": [
    {
     "data": {
      "image/png": "[encoded data removed]",
      "text/plain": [
       "<Figure size 432x288 with 1 Axes>"
      ]
     },
     "metadata": {
      "needs_background": "light"
     },
     "output_type": "display_data"
    }
   ],
   "source": [
    "length = []\n",
    "for article in mic_stock.News:\n",
    "    try:\n",
    "        length.append(len(article))\n",
    "    except:\n",
    "        pass\n",
    "\n",
    "\n",
    "plt.hist(length)\n",
    "plt.title(\"Length of proposed articles: Microsoft\",fontsize=13)\n",
    "plt.xlabel(\"Number of characters\",fontsize=12)\n",
    "plt.ylabel(\"Number of articles\",fontsize=13)\n",
    "plt.show()"
   ]
  },
  {
   "cell_type": "code",
   "execution_count": null,
   "metadata": {},
   "outputs": [],
   "source": []
  }
 ],
 "metadata": {
  "kernelspec": {
   "display_name": "Python 3",
   "language": "python",
   "name": "python3"
  },
  "language_info": {
   "codemirror_mode": {
    "name": "ipython",
    "version": 3
   },
   "file_extension": ".py",
   "mimetype": "text/x-python",
   "name": "python",
   "nbconvert_exporter": "python",
   "pygments_lexer": "ipython3",
   "version": "3.7.6"
  },
  "toc": {
   "base_numbering": 1,
   "nav_menu": {},
   "number_sections": true,
   "sideBar": true,
   "skip_h1_title": false,
   "title_cell": "Table of Contents",
   "title_sidebar": "Contents",
   "toc_cell": false,
   "toc_position": {},
   "toc_section_display": true,
   "toc_window_display": false
  }
 },
 "nbformat": 4,
 "nbformat_minor": 4
}
